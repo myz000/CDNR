{
 "cells": [
  {
   "cell_type": "markdown",
   "id": "0ebc889b",
   "metadata": {},
   "source": [
    "# CDNR\n",
    "\n",
    "---\n",
    "\n",
    "What if User Preferences Shifts: Causal Disentanglement for News Recommendation\n",
    "\n",
    "\n",
    "# Data\n",
    "\n",
    "News data : The origin dataset can be downloaded from https://msnews.github.io/index.html \n",
    "\n",
    "\n",
    "Word vectors : The pre-trained word vectors can be downloaded from https://github.com/stanfordnlp/GloVe. We used the glove.840B.300d, please download the file and put the corresponding txt file in the utils folder.\n",
    "\n",
    "# Dependencies\n",
    "\n",
    "Train and test the model using the following main dependencies:\n"
   ]
  },
  {
   "cell_type": "code",
   "execution_count": null,
   "id": "5d3ea940",
   "metadata": {},
   "outputs": [],
   "source": []
  }
 ],
 "metadata": {
  "kernelspec": {
   "display_name": "Python(tf2.6-gpu)",
   "language": "python",
   "name": "tf2.6-gpu"
  },
  "language_info": {
   "codemirror_mode": {
    "name": "ipython",
    "version": 3
   },
   "file_extension": ".py",
   "mimetype": "text/x-python",
   "name": "python",
   "nbconvert_exporter": "python",
   "pygments_lexer": "ipython3",
   "version": "3.8.11"
  },
  "toc": {
   "base_numbering": 1,
   "nav_menu": {},
   "number_sections": true,
   "sideBar": true,
   "skip_h1_title": false,
   "title_cell": "Table of Contents",
   "title_sidebar": "Contents",
   "toc_cell": false,
   "toc_position": {},
   "toc_section_display": true,
   "toc_window_display": false
  }
 },
 "nbformat": 4,
 "nbformat_minor": 5
}
