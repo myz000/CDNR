{
 "cells": [
  {
   "cell_type": "markdown",
   "id": "b25e4779",
   "metadata": {},
   "source": [
    "<font size=5> Global settings and imports<font>"
   ]
  },
  {
   "cell_type": "code",
   "execution_count": null,
   "id": "8f0b4ad2",
   "metadata": {},
   "outputs": [],
   "source": [
    "import os\n",
    "import sys\n",
    "import numpy as np\n",
    "import tensorflow as tf\n",
    "import pickle\n",
    "from Hypers import *\n",
    "from Preprocessing import *\n",
    "from Generator import *\n",
    "from Model import *\n",
    "from Utils import *"
   ]
  },
  {
   "cell_type": "code",
   "execution_count": 4,
   "id": "a61f575b",
   "metadata": {
    "ExecuteTime": {
     "end_time": "2024-03-27T17:22:09.706215Z",
     "start_time": "2024-03-27T17:22:09.647693Z"
    }
   },
   "outputs": [],
   "source": [
    "data_path = 'Data'\n",
    "embedding_path = 'Data/utils'\n",
    "pre_model_file = 'pre_model/preModel'\n",
    "\n",
    "train_news_file = os.path.join(data_path, 'train', r'news.tsv')\n",
    "train_behaviors_file = os.path.join(\n",
    "    data_path, 'train', r'train_IID_behaviors.tsv')\n",
    "valid_news_file = os.path.join(data_path, 'train', r'news.tsv')\n",
    "valid_behaviors_file = os.path.join(\n",
    "    data_path, 'train', r'valid_IID_behaviors.tsv')\n",
    "\n",
    "test_news_file = os.path.join(data_path, 'test', r'news.tsv')\n",
    "test_behaviors_file = os.path.join(\n",
    "    data_path, 'test', r'test_OOD_behaviors.tsv')\n",
    "test_behaviors_file1 = os.path.join(\n",
    "    data_path, 'test', r'test_IID_behaviors.tsv')\n",
    "\n",
    "pop_path = os.path.join(data_path, 'utils', r'news_pop.pkl')"
   ]
  },
  {
   "cell_type": "markdown",
   "id": "99cfc73b",
   "metadata": {},
   "source": [
    "<font size =5>Preprocessing data<font>"
   ]
  },
  {
   "cell_type": "code",
   "execution_count": 5,
   "id": "30f098bd",
   "metadata": {
    "ExecuteTime": {
     "end_time": "2024-03-27T17:23:02.020099Z",
     "start_time": "2024-03-27T17:22:10.367305Z"
    }
   },
   "outputs": [],
   "source": [
    "with open(pop_path, 'rb') as fp:\n",
    "    news_pop_cnt = pickle.load(fp)\n",
    "\n",
    "pop_max = len(set(news_pop_cnt.values()))\n",
    "\n",
    "news,news_index,category_dict,subcategory_dict,word_dict,content_dict,entity_dict = read_news(\n",
    "    [train_news_file, test_news_file])\n",
    "\n",
    "title_word_embedding_matrix, have_word = load_matrix(embedding_path,word_dict)\n",
    "word_embedding_matrix = title_word_embedding_matrix\n",
    "vocab_size = word_embedding_matrix.shape[0]\n",
    "\n",
    "news_title, news_vert, news_subvert, news_entity, news_content, news_pop, tar_title_inp, tar_title_real = get_doc_input(\n",
    "    news, news_index, category_dict, subcategory_dict, entity_dict, word_dict,content_dict, news_pop_cnt, pop_max, True, DROPOUT_RATE)\n",
    "\n",
    "news_info = np.concatenate([news_title, news_pop.reshape((-1, 1))], axis=-1)\n",
    "news_vae_info = np.concatenate(\n",
    "    [news_title, tar_title_inp, news_pop.reshape((-1, 1)), tar_title_real], axis=-1)"
   ]
  },
  {
   "cell_type": "markdown",
   "id": "4867a67f",
   "metadata": {},
   "source": [
    "<font size=5>Train the CDNR model<font>"
   ]
  },
  {
   "cell_type": "code",
   "execution_count": null,
   "id": "dcc0d03d",
   "metadata": {},
   "outputs": [],
   "source": [
    "train_session_all = read_train_clickhistory(\n",
    "    news_index, train_behaviors_file, FILTER_NUM)\n",
    "train_session = train_session_all\n",
    "train_user = parse_user(news_index, train_session)\n",
    "train_sess, train_user_id, train_label = get_train_input(\n",
    "    news_index, train_session)\n",
    "\n",
    "train_generator = get_hir_train_generator(\n",
    "    news_info, train_user['click'], train_user_id, train_sess, train_label, BATCH_SIZE, news_vae_info, MAX_VAE_TITLE)\n",
    "\n",
    "test_session_all_OOD = read_test_clickhistory(\n",
    "    news_index, test_behaviors_file, FILTER_NUM)\n",
    "test_session_OOD = test_session_all_OOD\n",
    "test_user_OOD = parse_user(news_index, test_session_OOD)\n",
    "test_impressions_OOD, test_userids_OOD = get_test_input(\n",
    "    news_index, test_session_OOD)\n",
    "\n",
    "test_session_all_IID = read_test_clickhistory(\n",
    "    news_index, test_behaviors_file1,FILTER_NUM)\n",
    "\n",
    "test_session_IID = test_session_all_IID\n",
    "test_user_IID = parse_user(news_index, test_session_IID)\n",
    "test_impressions_IID, test_userids_IID = get_test_input(\n",
    "    news_index, test_session_IID)\n",
    "\n",
    "model, news_encoder, model1, user_encoder, trans = create_model(\n",
    "    word_embedding_matrix, NUM_LAYERS, D_MODEL, D_LATENT, NUM_HEADS, True, DROPOUT_RATE, W_VAE, 0.0, W_VAE, MAX_POSITION, pop_max)\n",
    "model.fit(train_generator, epochs=2)\n",
    "model.save_weights(pre_model_file)\n",
    "\n",
    "model, news_encoder, model1, user_encoder, trans = create_model(\n",
    "    word_embedding_matrix, NUM_LAYERS, D_MODEL, D_LATENT, NUM_HEADS, True, DROPOUT_RATE, W_VAE, W_VAE/2.0, W_VAE, MAX_POSITION, pop_max)\n",
    "\n",
    "model.load_weights(pre_model_file)\n",
    "model.fit(train_generator, epochs=EPOCHS)"
   ]
  },
  {
   "cell_type": "markdown",
   "id": "d45cda0f",
   "metadata": {
    "ExecuteTime": {
     "end_time": "2024-03-27T17:30:49.188773Z",
     "start_time": "2024-03-27T17:30:49.182124Z"
    }
   },
   "source": [
    "<font size=5>Evaluate the CDNR model<font>"
   ]
  },
  {
   "cell_type": "code",
   "execution_count": null,
   "id": "a89d1623",
   "metadata": {},
   "outputs": [],
   "source": [
    "news_scoring = news_encoder.predict(news_info, verbose=1)\n",
    "test_generator_OOD = get_user_generator(\n",
    "    news_info, test_userids_OOD, test_user_OOD['click'], BATCH_SIZE)\n",
    "test_user_scoring_OOD = user_encoder.predict_generator(\n",
    "    test_generator_OOD, verbose=1)\n",
    "AUC_OOD, MRR_OOD, nDCG5_OOD, nDCG10_OOD = evaluate(\n",
    "    test_impressions_OOD, news_scoring[:, :D_LATENT], test_user_scoring_OOD[:, :D_LATENT])\n",
    "\n",
    "test_generator_IID = get_user_generator(\n",
    "    news_info, test_userids_IID, test_user_IID['click'], BATCH_SIZE)\n",
    "test_user_scoring_IID = user_encoder.predict_generator(\n",
    "    test_generator_IID, verbose=1)\n",
    "AUC_IID, MRR_IID, nDCG5_IID, nDCG10_IID = evaluate(\n",
    "    test_impressions_IID, news_scoring, test_user_scoring_IID)"
   ]
  },
  {
   "cell_type": "code",
   "execution_count": null,
   "id": "994c4289",
   "metadata": {},
   "outputs": [],
   "source": [
    "print('OOD - ','AUC:',AUC_OOD,' MRR:', MRR_OOD, ' nDCG5:', nDCG5_OOD, ' nDCG10:', nDCG10_OOD)\n",
    "print('IID - ','AUC:',AUC_IID,' MRR:', MRR_IID, ' nDCG5:', nDCG5_IID, ' nDCG10:', nDCG10_IID)"
   ]
  }
 ],
 "metadata": {
  "kernelspec": {
   "display_name": "Python(tf2.6-gpu)",
   "language": "python",
   "name": "tf2.6-gpu"
  },
  "language_info": {
   "codemirror_mode": {
    "name": "ipython",
    "version": 3
   },
   "file_extension": ".py",
   "mimetype": "text/x-python",
   "name": "python",
   "nbconvert_exporter": "python",
   "pygments_lexer": "ipython3",
   "version": "3.8.11"
  },
  "toc": {
   "base_numbering": 1,
   "nav_menu": {},
   "number_sections": true,
   "sideBar": true,
   "skip_h1_title": false,
   "title_cell": "Table of Contents",
   "title_sidebar": "Contents",
   "toc_cell": false,
   "toc_position": {
    "height": "837.067px",
    "left": "53px",
    "top": "122.733px",
    "width": "165px"
   },
   "toc_section_display": true,
   "toc_window_display": true
  }
 },
 "nbformat": 4,
 "nbformat_minor": 5
}
